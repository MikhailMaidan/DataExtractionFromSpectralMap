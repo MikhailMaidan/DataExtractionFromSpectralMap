{
 "cells": [
  {
   "cell_type": "code",
   "execution_count": 1,
   "id": "3f66213a",
   "metadata": {},
   "outputs": [],
   "source": [
    "import numpy as np\n",
    "\n",
    "FILENAME = 'S0_6mW_0'\n",
    "\n",
    "hdr_file = FILENAME + '.hdr'\n",
    "dat_file = FILENAME + '.dat'\n",
    "\n",
    "# Read the header file to obtain the number of rows, columns, and bands\n",
    "with open(hdr_file, 'r') as f:\n",
    "    for line in f:\n",
    "        if line.startswith('lines'):\n",
    "            nrows = int(line.split('=')[1])\n",
    "        elif line.startswith('samples'):\n",
    "            ncols = int(line.split('=')[1])\n",
    "        elif line.startswith('bands'):\n",
    "            nbands = int(line.split('=')[1])\n",
    "            break\n",
    "\n",
    "# Read the DAT file as a 1D array\n",
    "sp_map = np.fromfile(dat_file, dtype=np.float32)\n",
    "\n",
    "# Reshape the data based on the number of rows, columns, and bands\n",
    "sp_map = sp_map.reshape(nrows, ncols, nbands)\n",
    "\n",
    "# Calculate the square of each spectrum\n",
    "spectrum_square = np.square(sp_map)\n",
    "\n",
    "# Compute the average spectrum square along the band axis\n",
    "average_square = np.mean(spectrum_square, axis=2)\n",
    "\n",
    "# Save the average spectrum square as a heatmap in a text file\n",
    "heatmap_filename = FILENAME + '_heatmap.txt'\n",
    "np.savetxt(heatmap_filename, average_square, fmt='%.4f', delimiter='\\t')\n",
    "\n",
    "# Calculate the average baseline square from all spectra\n",
    "average_baseline_square = np.mean(average_square)\n",
    "\n",
    "# Save the average baseline square in a separate text file\n",
    "avg_baseline_filename = FILENAME + '_average_baseline.txt'\n",
    "np.savetxt(avg_baseline_filename, [average_baseline_square], fmt='%.4f')"
   ]
  },
  {
   "cell_type": "code",
   "execution_count": null,
   "id": "88e8351c",
   "metadata": {},
   "outputs": [],
   "source": []
  }
 ],
 "metadata": {
  "kernelspec": {
   "display_name": "Python 3 (ipykernel)",
   "language": "python",
   "name": "python3"
  },
  "language_info": {
   "codemirror_mode": {
    "name": "ipython",
    "version": 3
   },
   "file_extension": ".py",
   "mimetype": "text/x-python",
   "name": "python",
   "nbconvert_exporter": "python",
   "pygments_lexer": "ipython3",
   "version": "3.9.12"
  }
 },
 "nbformat": 4,
 "nbformat_minor": 5
}
